{
 "cells": [
  {
   "cell_type": "markdown",
   "metadata": {
    "collapsed": true
   },
   "source": [
    "## Capstone Project - Battle of Neighbourhoods"
   ]
  },
  {
   "cell_type": "markdown",
   "metadata": {},
   "source": [
    "### Coffee_Shop Recommendation"
   ]
  },
  {
   "cell_type": "markdown",
   "metadata": {},
   "source": [
    "<h3>  Problem Statement </h3>"
   ]
  },
  {
   "cell_type": "markdown",
   "metadata": {},
   "source": [
    "<span style= 'font-family:Cambria; font-size:1.3em'>Almost everyone loves coffee. It has been said that some 330 million cup of coffee are consumed everyday. What makes it more attractive to enter into the coffee business is the low starting cost in comparison with other businesses.The second thing that makes coffee business very appealing is that even though it is food service, and has the highest gnawing away rate than any other business, it has a higher profit margin. </span>\n",
    "   \n",
    "<span style= 'font-family:Cambria; font-size:1.3em'> People who love the taste spend more than $30 billion annually on regular and specialty cups of the hot beverage. Getting in on the coffee gravy train starts with knowing the target market of those who buy and drink coffee, which is key to determining which products are best to sell in your establishment. </span>"
   ]
  },
  {
   "cell_type": "markdown",
   "metadata": {},
   "source": [
    "### Business statement"
   ]
  },
  {
   "cell_type": "markdown",
   "metadata": {},
   "source": [
    "<span style= 'font-family:Arial; font-size:1.4em'> The idea of this study is to help people planning to start a new coffee shop in Salem to choose a right location where in Salem would it be best to open a cafe and what location seems to be the most popular.</span>"
   ]
  },
  {
   "cell_type": "markdown",
   "metadata": {},
   "source": [
    "<h3> Target Audience </h3>"
   ]
  },
  {
   "cell_type": "markdown",
   "metadata": {},
   "source": [
    "The target market for coffee, includes drip coffee drinkers, coffee shop lovers, specialty coffee drinkers, and whole bean buyers."
   ]
  },
  {
   "cell_type": "markdown",
   "metadata": {},
   "source": [
    "1. #### Drip Coffee Drinkers\n",
    "The latest research has found that 77 percent of adults in the United States drink coffee on a daily basis. Depending on the price you charge for a cup of coffee, your target market may be students and business workers on their way to work or class.\n",
    "2. #### Coffee Shop Lovers\n",
    "People who spend time at shops and cafes where specialty drinks and regular cups of coffee are available along with an inviting atmosphere – rather than coming in to grab a cup of coffee.\n",
    "3. #### Specialty Coffee Drinkers\n",
    "Espressos, cappuccinos, lattes, and mochas are just the start, if you want to sell specialty coffee drinks. The target market for this coffee product consists of those who love specific ingredients in their coffee-based beverage.\n",
    "4. #### Whole Bean Buyers\n",
    "Another target market consists of people who buy whole bean coffee to make at home or in the office. These buyers ask to have the beans ground in the store, or they grind the coffee themselves, for the freshest cup possible. This audience buys whole beans by the pound in different flavors from various regions."
   ]
  }
 ],
 "metadata": {
  "kernelspec": {
   "display_name": "Python 3.6",
   "language": "python",
   "name": "python3"
  },
  "language_info": {
   "codemirror_mode": {
    "name": "ipython",
    "version": 3
   },
   "file_extension": ".py",
   "mimetype": "text/x-python",
   "name": "python",
   "nbconvert_exporter": "python",
   "pygments_lexer": "ipython3",
   "version": "3.6.8"
  }
 },
 "nbformat": 4,
 "nbformat_minor": 1
}
